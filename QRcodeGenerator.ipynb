{
 "cells": [
  {
   "cell_type": "code",
   "execution_count": 1,
   "id": "c7395cb3",
   "metadata": {},
   "outputs": [
    {
     "name": "stdout",
     "output_type": "stream",
     "text": [
      "Requirement already satisfied: qrcode[pil] in c:\\users\\otoja\\anaconda3\\lib\\site-packages (7.4.2)\n",
      "Requirement already satisfied: typing-extensions in c:\\users\\otoja\\anaconda3\\lib\\site-packages (from qrcode[pil]) (4.3.0)\n",
      "Requirement already satisfied: colorama in c:\\users\\otoja\\anaconda3\\lib\\site-packages (from qrcode[pil]) (0.4.5)\n",
      "Requirement already satisfied: pypng in c:\\users\\otoja\\anaconda3\\lib\\site-packages (from qrcode[pil]) (0.20220715.0)\n",
      "Requirement already satisfied: pillow>=9.1.0 in c:\\users\\otoja\\anaconda3\\lib\\site-packages (from qrcode[pil]) (9.2.0)\n",
      "Note: you may need to restart the kernel to use updated packages.\n"
     ]
    }
   ],
   "source": [
    "pip install qrcode[pil]"
   ]
  },
  {
   "cell_type": "code",
   "execution_count": 3,
   "id": "f2de29ac",
   "metadata": {},
   "outputs": [],
   "source": [
    "import qrcode\n",
    "img = qrcode.make('https://barcode-menu.no3lounge.com/')\n",
    "img.save('03qrcodereal.png')"
   ]
  },
  {
   "cell_type": "code",
   "execution_count": null,
   "id": "a2302b97",
   "metadata": {},
   "outputs": [],
   "source": []
  }
 ],
 "metadata": {
  "kernelspec": {
   "display_name": "Python 3 (ipykernel)",
   "language": "python",
   "name": "python3"
  },
  "language_info": {
   "codemirror_mode": {
    "name": "ipython",
    "version": 3
   },
   "file_extension": ".py",
   "mimetype": "text/x-python",
   "name": "python",
   "nbconvert_exporter": "python",
   "pygments_lexer": "ipython3",
   "version": "3.9.13"
  }
 },
 "nbformat": 4,
 "nbformat_minor": 5
}
